{
  "cells": [
    {
      "cell_type": "markdown",
      "metadata": {
        "id": "AGcT2r9X6Tb8"
      },
      "source": [
        "<p style=\"text-align:center\">\n",
        "    <a href=\"https://skills.network/?utm_medium=Exinfluencer&utm_source=Exinfluencer&utm_content=000026UJ&utm_term=10006555&utm_id=NA-SkillsNetwork-Channel-SkillsNetworkCoursesIBMDeveloperSkillsNetworkPY0221ENSkillsNetwork899-2023-01-01\">\n",
        "    <img src=\"https://cf-courses-data.s3.us.cloud-object-storage.appdomain.cloud/assets/logos/SN_web_lightmode.png\" width=\"200\" alt=\"Skills Network Logo\"  />\n",
        "    </a>\n",
        "</p>\n"
      ]
    },
    {
      "cell_type": "markdown",
      "metadata": {
        "id": "hm56Gs0l6Tb_"
      },
      "source": [
        "# Peer Review Assignment - Data Engineer - Extract API Data\n"
      ]
    },
    {
      "cell_type": "markdown",
      "metadata": {
        "id": "zte4dCz-6Tb_"
      },
      "source": [
        "Estimated time needed: **20** minutes\n"
      ]
    },
    {
      "cell_type": "markdown",
      "metadata": {
        "id": "BpRMRiB26TcA"
      },
      "source": [
        "## Objectives\n",
        "\n",
        "In this part you will:\n",
        "\n",
        "-   Collect exchange rate data using an API\n",
        "-   Store the data as a CSV\n"
      ]
    },
    {
      "cell_type": "markdown",
      "metadata": {
        "id": "C9hdHPjS6TcA"
      },
      "source": [
        "For this lab, we are going to be using Python and several Python libraries. Some of these libraries might be installed in your lab environment or in SN Labs. Others may need to be installed by you. The cells below will install these libraries when executed.\n"
      ]
    },
    {
      "cell_type": "code",
      "execution_count": null,
      "metadata": {
        "id": "XTrtyzjf6TcB"
      },
      "outputs": [],
      "source": [
        "#!mamba install pandas==1.3.3 -y\n",
        "#!mamba install requests==2.26.0 -y"
      ]
    },
    {
      "cell_type": "markdown",
      "metadata": {
        "id": "llTCzKNj6TcC"
      },
      "source": [
        "## Imports\n",
        "\n",
        "Import any additional libraries you may need here.\n"
      ]
    },
    {
      "cell_type": "code",
      "execution_count": 1,
      "metadata": {
        "id": "UckNZnuc6TcD"
      },
      "outputs": [],
      "source": [
        "import requests\n",
        "import pandas as pd"
      ]
    },
    {
      "cell_type": "markdown",
      "metadata": {
        "id": "mHO896M26TcD"
      },
      "source": [
        "## Extract Data Using an API\n"
      ]
    },
    {
      "cell_type": "markdown",
      "metadata": {
        "id": "nFZWEM5L6TcE"
      },
      "source": [
        "Using ExchangeRate-API we will extract currency exchange rate data. Use the below steps to get the access key and to get the data. \n",
        "1. Open the url : https://exchangeratesapi.io/ and click on **Get Free API Key**. \n",
        "2. Subscribe for Free plan and Sign-in with the Google Account. \n",
        "3. Once the account is created you will be redirected to https://apilayer.com website.\n",
        "2. Now, click on the **user icon** and click **Account** as shown below:\n",
        "\n",
        "<img src=\"https://cf-courses-data.s3.us.cloud-object-storage.appdomain.cloud/IBMDeveloperSkillsNetwork-PY0221EN-SkillsNetwork/labs/module%206/Final%20Assignment/Images/account.png\">\n",
        "\n",
        "3. Scroll down and you will get the API Key section. Copy the API key and use in the url in Question 1.\n"
      ]
    },
    {
      "cell_type": "markdown",
      "metadata": {
        "id": "5t-QYiXt6TcE"
      },
      "source": [
        "### Call the API\n",
        "\n",
        " <b> Question 1</b> Using the `requests` library call the endpoint given above and save the text, remember the first few characters of the output: \n"
      ]
    },
    {
      "cell_type": "code",
      "execution_count": 8,
      "metadata": {
        "id": "v9nUvPaT6TcE"
      },
      "outputs": [],
      "source": [
        "# Write your code here\n",
        "url = \"http://api.exchangeratesapi.io/v1/latest?access_key=b6ae152c5fb67aea46bf91a1f5729699\" #Make sure to change ******* to your API key."
      ]
    },
    {
      "cell_type": "markdown",
      "metadata": {
        "id": "AxvdNLjr6TcF"
      },
      "source": [
        "### Save as DataFrame\n",
        "\n",
        " <b> Question 2</b>  Using the data gathered turn it into a `pandas` dataframe. The dataframe should have the Currency as the index and `Rate` as their columns. Make sure to drop unnecessary columns.\n"
      ]
    },
    {
      "cell_type": "code",
      "execution_count": 9,
      "metadata": {
        "id": "DpvbSg3d6TcF"
      },
      "outputs": [],
      "source": [
        "# Turn the data into a dataframe\n",
        "response = requests.get(url)\n",
        "json_data = response.json()"
      ]
    },
    {
      "cell_type": "code",
      "source": [
        "data = pd.DataFrame(json_data)"
      ],
      "metadata": {
        "id": "QqQQyExx7x9c"
      },
      "execution_count": 16,
      "outputs": []
    },
    {
      "cell_type": "code",
      "execution_count": 18,
      "metadata": {
        "id": "tl2dFgfb6TcG"
      },
      "outputs": [],
      "source": [
        "# Drop unnescessary columns\n",
        "data = data[['rates']]"
      ]
    },
    {
      "cell_type": "markdown",
      "metadata": {
        "id": "pii0NeRO6TcG"
      },
      "source": [
        "### Load the Data\n",
        "\n",
        "Using the dataframe save it as a CSV names `exchange_rates_1.csv`.\n"
      ]
    },
    {
      "cell_type": "code",
      "execution_count": 19,
      "metadata": {
        "id": "_o1VcKUv6TcG"
      },
      "outputs": [],
      "source": [
        "# Save the Dataframe\n",
        "data.to_csv('exchange_rates_1.csv')"
      ]
    },
    {
      "cell_type": "markdown",
      "metadata": {
        "id": "DajB2zjP6TcH"
      },
      "source": [
        "Your CSV should be in this format with more currencies\n",
        "\n",
        "| | Rates |\n",
        "| ------- | ------- |\n",
        "|  AED| 4.398618    |\n",
        "|  AFN| 92.917693   |  \n",
        "|  ALL| 123.099093  |\n",
        "|  AMD| 621.935674  |\n",
        "|  ANG| 2.149648    | \n"
      ]
    },
    {
      "cell_type": "markdown",
      "metadata": {
        "id": "_A7axPC76TcH"
      },
      "source": [
        "## Authors\n"
      ]
    },
    {
      "cell_type": "markdown",
      "metadata": {
        "id": "EyODTVKs6TcI"
      },
      "source": [
        "Ramesh Sannareddy, Joseph Santarcangelo and Azim Hirjani\n"
      ]
    },
    {
      "cell_type": "markdown",
      "metadata": {
        "id": "rUBZz6jM6TcI"
      },
      "source": [
        "### Other Contributors\n"
      ]
    },
    {
      "cell_type": "markdown",
      "metadata": {
        "id": "i0h1Rb-w6TcI"
      },
      "source": [
        "Rav Ahuja\n"
      ]
    },
    {
      "cell_type": "markdown",
      "metadata": {
        "id": "n62o-w866TcJ"
      },
      "source": [
        "## Change Log\n"
      ]
    },
    {
      "cell_type": "markdown",
      "metadata": {
        "id": "RWFnZrXK6TcJ"
      },
      "source": [
        "| Date (YYYY-MM-DD) | Version | Changed By        | Change Description                 |\n",
        "| ----------------- | ------- | ----------------- | ---------------------------------- |\n",
        "| 2022-05-06        | 0.3     | Malika            | Updated instructions to get the API and the url|\n",
        "| 2021-04-15        | 0.2     | Malika            | Updated the lab from USD to EUR    |\n",
        "| 2020-11-25        | 0.1     | Ramesh Sannareddy | Created initial version of the lab |\n"
      ]
    },
    {
      "cell_type": "markdown",
      "metadata": {
        "id": "9WwDqr3Y6TcJ"
      },
      "source": [
        " Copyright © 2020 IBM Corporation. This notebook and its source code are released under the terms of the [MIT License](https://cognitiveclass.ai/mit-license?utm_medium=Exinfluencer&utm_source=Exinfluencer&utm_content=000026UJ&utm_term=10006555&utm_id=NA-SkillsNetwork-Channel-SkillsNetworkCoursesIBMDeveloperSkillsNetworkPY0221ENSkillsNetwork899-2023-01-01&cm_mmc=Email_Newsletter-_-Developer_Ed%2BTech-_-WW_WW-_-SkillsNetwork-Courses-IBM-DA0321EN-SkillsNetwork-21426264&cm_mmca1=000026UJ&cm_mmca2=10006555&cm_mmca3=M12345678&cvosrc=email.Newsletter.M12345678&cvo_campaign=000026UJ).\n"
      ]
    }
  ],
  "metadata": {
    "kernelspec": {
      "display_name": "Python",
      "language": "python",
      "name": "conda-env-python-py"
    },
    "language_info": {
      "name": ""
    },
    "colab": {
      "provenance": []
    }
  },
  "nbformat": 4,
  "nbformat_minor": 0
}