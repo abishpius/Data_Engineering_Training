{
  "cells": [
    {
      "cell_type": "markdown",
      "metadata": {
        "id": "MsNvyvFCw3bU"
      },
      "source": [
        "<p style=\"text-align:center\">\n",
        "    <a href=\"https://skills.network/?utm_medium=Exinfluencer&utm_source=Exinfluencer&utm_content=000026UJ&utm_term=10006555&utm_id=NA-SkillsNetwork-Channel-SkillsNetworkCoursesIBMDeveloperSkillsNetworkPY0221ENSkillsNetwork899-2023-01-01\">\n",
        "    <img src=\"https://cf-courses-data.s3.us.cloud-object-storage.appdomain.cloud/assets/logos/SN_web_lightmode.png\" width=\"200\" alt=\"Skills Network Logo\"  />\n",
        "    </a>\n",
        "</p>\n"
      ]
    },
    {
      "cell_type": "markdown",
      "metadata": {
        "id": "bWUF04wiw3bX"
      },
      "source": [
        "# **Extract Transform Load (ETL) Lab**\n"
      ]
    },
    {
      "cell_type": "markdown",
      "metadata": {
        "id": "dvcyGPTnw3bX"
      },
      "source": [
        "Estimated time needed: **30** minutes\n"
      ]
    },
    {
      "cell_type": "markdown",
      "metadata": {
        "id": "Z29EhbjSw3bY"
      },
      "source": [
        "## Objectives\n",
        "\n",
        "After completing this lab you will be able to:\n",
        "\n",
        "-   Read CSV and JSON file types.\n",
        "-   Extract data from the above file types.\n",
        "-   Transform data.\n",
        "-   Save the transformed data in a ready-to-load format which data engineers can use to load into an RDBMS.\n"
      ]
    },
    {
      "cell_type": "markdown",
      "metadata": {
        "id": "fhVSmiEhw3bY"
      },
      "source": [
        "Import the required modules and functions\n"
      ]
    },
    {
      "cell_type": "code",
      "execution_count": 4,
      "metadata": {
        "id": "VpjfSm0mw3bY"
      },
      "outputs": [],
      "source": [
        "import glob                         # this module helps in selecting files \n",
        "import pandas as pd                 # this module helps in processing CSV files\n",
        "import xml.etree.ElementTree as ET  # this module helps in processing XML files.\n",
        "from datetime import datetime"
      ]
    },
    {
      "cell_type": "markdown",
      "metadata": {
        "id": "Be0ufSRTw3ba"
      },
      "source": [
        "## Download Files\n"
      ]
    },
    {
      "cell_type": "code",
      "execution_count": 1,
      "metadata": {
        "colab": {
          "base_uri": "https://localhost:8080/"
        },
        "id": "grLLhyhMw3ba",
        "outputId": "9439eaf5-1298-4408-b97c-ca9c42d427e4"
      },
      "outputs": [
        {
          "output_type": "stream",
          "name": "stdout",
          "text": [
            "--2023-05-29 23:06:48--  https://cf-courses-data.s3.us.cloud-object-storage.appdomain.cloud/IBMDeveloperSkillsNetwork-PY0221EN-SkillsNetwork/labs/module%206/Lab%20-%20Extract%20Transform%20Load/data/source.zip\n",
            "Resolving cf-courses-data.s3.us.cloud-object-storage.appdomain.cloud (cf-courses-data.s3.us.cloud-object-storage.appdomain.cloud)... 169.45.118.108\n",
            "Connecting to cf-courses-data.s3.us.cloud-object-storage.appdomain.cloud (cf-courses-data.s3.us.cloud-object-storage.appdomain.cloud)|169.45.118.108|:443... connected.\n",
            "HTTP request sent, awaiting response... 200 OK\n",
            "Length: 2707 (2.6K) [application/zip]\n",
            "Saving to: ‘source.zip’\n",
            "\n",
            "source.zip          100%[===================>]   2.64K  --.-KB/s    in 0s      \n",
            "\n",
            "2023-05-29 23:06:48 (301 MB/s) - ‘source.zip’ saved [2707/2707]\n",
            "\n"
          ]
        }
      ],
      "source": [
        "!wget https://cf-courses-data.s3.us.cloud-object-storage.appdomain.cloud/IBMDeveloperSkillsNetwork-PY0221EN-SkillsNetwork/labs/module%206/Lab%20-%20Extract%20Transform%20Load/data/source.zip"
      ]
    },
    {
      "cell_type": "markdown",
      "metadata": {
        "id": "wdcQZIRAw3bb"
      },
      "source": [
        "## Unzip Files\n"
      ]
    },
    {
      "cell_type": "code",
      "execution_count": 2,
      "metadata": {
        "colab": {
          "base_uri": "https://localhost:8080/"
        },
        "id": "E0LNW4Paw3bb",
        "outputId": "a4957f76-02db-4e39-e124-55ea4861876c"
      },
      "outputs": [
        {
          "output_type": "stream",
          "name": "stdout",
          "text": [
            "Archive:  source.zip\n",
            "  inflating: source3.json            \n",
            "  inflating: source1.csv             \n",
            "  inflating: source2.csv             \n",
            "  inflating: source3.csv             \n",
            "  inflating: source1.json            \n",
            "  inflating: source2.json            \n",
            "  inflating: source1.xml             \n",
            "  inflating: source2.xml             \n",
            "  inflating: source3.xml             \n"
          ]
        }
      ],
      "source": [
        "!unzip source.zip"
      ]
    },
    {
      "cell_type": "markdown",
      "metadata": {
        "id": "7xhhNGPjw3bb"
      },
      "source": [
        "## Set Paths\n"
      ]
    },
    {
      "cell_type": "code",
      "execution_count": 3,
      "metadata": {
        "id": "PAb008W3w3bc"
      },
      "outputs": [],
      "source": [
        "tmpfile    = \"temp.tmp\"               # file used to store all extracted data\n",
        "logfile    = \"logfile.txt\"            # all event logs will be stored in this file\n",
        "targetfile = \"transformed_data.csv\"   # file where transformed data is stored"
      ]
    },
    {
      "cell_type": "markdown",
      "metadata": {
        "id": "W8iJYWAHw3bc"
      },
      "source": [
        "## Extract\n"
      ]
    },
    {
      "cell_type": "markdown",
      "metadata": {
        "id": "oWBzUBdgw3bc"
      },
      "source": [
        "### CSV Extract Function\n"
      ]
    },
    {
      "cell_type": "code",
      "execution_count": 5,
      "metadata": {
        "id": "b4R3xHVqw3bc"
      },
      "outputs": [],
      "source": [
        "def extract_from_csv(file_to_process):\n",
        "    dataframe = pd.read_csv(file_to_process)\n",
        "    return dataframe"
      ]
    },
    {
      "cell_type": "markdown",
      "metadata": {
        "id": "VATlXhY1w3bd"
      },
      "source": [
        "### JSON Extract Function\n"
      ]
    },
    {
      "cell_type": "code",
      "execution_count": 6,
      "metadata": {
        "id": "6Uc1IYZqw3bd"
      },
      "outputs": [],
      "source": [
        "def extract_from_json(file_to_process):\n",
        "    dataframe = pd.read_json(file_to_process,lines=True)\n",
        "    return dataframe"
      ]
    },
    {
      "cell_type": "markdown",
      "metadata": {
        "id": "tVR1U6y4w3bd"
      },
      "source": [
        "### XML Extract Function\n"
      ]
    },
    {
      "cell_type": "code",
      "execution_count": 7,
      "metadata": {
        "id": "smU5j4aDw3bd"
      },
      "outputs": [],
      "source": [
        "def extract_from_xml(file_to_process):\n",
        "    dataframe = pd.DataFrame(columns=[\"name\", \"height\", \"weight\"])\n",
        "    tree = ET.parse(file_to_process)\n",
        "    root = tree.getroot()\n",
        "    for person in root:\n",
        "        name = person.find(\"name\").text\n",
        "        height = float(person.find(\"height\").text)\n",
        "        weight = float(person.find(\"weight\").text)\n",
        "        dataframe = dataframe.append({\"name\":name, \"height\":height, \"weight\":weight}, ignore_index=True)\n",
        "    return dataframe"
      ]
    },
    {
      "cell_type": "markdown",
      "metadata": {
        "id": "sot_E-FXw3be"
      },
      "source": [
        "### Extract Function\n"
      ]
    },
    {
      "cell_type": "code",
      "execution_count": 8,
      "metadata": {
        "id": "0LvgBGzVw3be"
      },
      "outputs": [],
      "source": [
        "def extract():\n",
        "    extracted_data = pd.DataFrame(columns=['name','height','weight']) # create an empty data frame to hold extracted data\n",
        "    \n",
        "    #process all csv files\n",
        "    for csvfile in glob.glob(\"*.csv\"):\n",
        "        extracted_data = extracted_data.append(extract_from_csv(csvfile), ignore_index=True)\n",
        "        \n",
        "    #process all json files\n",
        "    for jsonfile in glob.glob(\"*.json\"):\n",
        "        extracted_data = extracted_data.append(extract_from_json(jsonfile), ignore_index=True)\n",
        "    \n",
        "    #process all xml files\n",
        "    for xmlfile in glob.glob(\"*.xml\"):\n",
        "        extracted_data = extracted_data.append(extract_from_xml(xmlfile), ignore_index=True)\n",
        "        \n",
        "    return extracted_data"
      ]
    },
    {
      "cell_type": "markdown",
      "metadata": {
        "id": "bba3RPoQw3be"
      },
      "source": [
        "## Transform\n"
      ]
    },
    {
      "cell_type": "markdown",
      "metadata": {
        "id": "KGAZT9ePw3be"
      },
      "source": [
        "The transform function does the following tasks.\n",
        "\n",
        "1.  Convert height which is in inches to millimeter\n",
        "2.  Convert weight which is in pounds to kilograms\n"
      ]
    },
    {
      "cell_type": "code",
      "execution_count": 10,
      "metadata": {
        "id": "TJHPAmhsw3bf"
      },
      "outputs": [],
      "source": [
        "def transform(data):\n",
        "  #Convert height which is in inches to millimeter\n",
        "  #Convert the datatype of the column into float\n",
        "  #data.height = data.height.astype(float)\n",
        "  #Convert inches to meters and round off to two decimals(one inch is 0.0254 meters)\n",
        "  data['height'] = round(data.height * 0.0254,2)\n",
        "\n",
        "  #Convert weight which is in pounds to kilograms\n",
        "  #Convert the datatype of the column into float\n",
        "  #data.weight = data.weight.astype(float)\n",
        "  #Convert pounds to kilograms and round off to two decimals(one pound is 0.45359237 kilograms)\n",
        "  data['weight'] = round(data.weight * 0.45359237,2)\n",
        "  return data"
      ]
    },
    {
      "cell_type": "markdown",
      "metadata": {
        "id": "I2D4uQcww3bf"
      },
      "source": [
        "## Loading\n"
      ]
    },
    {
      "cell_type": "code",
      "execution_count": 11,
      "metadata": {
        "id": "-wm-QnsWw3bf"
      },
      "outputs": [],
      "source": [
        "def load(targetfile,data_to_load):\n",
        "    data_to_load.to_csv(targetfile)  "
      ]
    },
    {
      "cell_type": "markdown",
      "metadata": {
        "id": "nsJRsxdPw3bf"
      },
      "source": [
        "## Logging\n"
      ]
    },
    {
      "cell_type": "code",
      "execution_count": 12,
      "metadata": {
        "id": "2K3v8ePUw3bf"
      },
      "outputs": [],
      "source": [
        "def log(message):\n",
        "    timestamp_format = '%Y-%h-%d-%H:%M:%S' # Year-Monthname-Day-Hour-Minute-Second\n",
        "    now = datetime.now() # get current timestamp\n",
        "    timestamp = now.strftime(timestamp_format)\n",
        "    with open(\"logfile.txt\",\"a\") as f:\n",
        "        f.write(timestamp + ',' + message + '\\n')"
      ]
    },
    {
      "cell_type": "markdown",
      "metadata": {
        "id": "qQdUIXZEw3bg"
      },
      "source": [
        "## Running ETL Process\n"
      ]
    },
    {
      "cell_type": "code",
      "execution_count": 13,
      "metadata": {
        "id": "fv4V4cU3w3bg"
      },
      "outputs": [],
      "source": [
        "log(\"ETL Job Started\")"
      ]
    },
    {
      "cell_type": "code",
      "execution_count": null,
      "metadata": {
        "id": "wfTw1Fqiw3bg"
      },
      "outputs": [],
      "source": [
        "log(\"Extract phase Started\")\n",
        "extracted_data = extract()\n",
        "log(\"Extract phase Ended\")\n",
        "extracted_data"
      ]
    },
    {
      "cell_type": "code",
      "execution_count": null,
      "metadata": {
        "id": "0ZbgTBF1w3bh"
      },
      "outputs": [],
      "source": [
        "log(\"Transform phase Started\")\n",
        "transformed_data = transform(extracted_data)\n",
        "log(\"Transform phase Ended\")\n",
        "transformed_data "
      ]
    },
    {
      "cell_type": "code",
      "execution_count": 16,
      "metadata": {
        "id": "ChbW2Xiww3bh"
      },
      "outputs": [],
      "source": [
        "log(\"Load phase Started\")\n",
        "load(targetfile,transformed_data)\n",
        "log(\"Load phase Ended\")"
      ]
    },
    {
      "cell_type": "code",
      "execution_count": 17,
      "metadata": {
        "id": "Ib-u1eNqw3bh"
      },
      "outputs": [],
      "source": [
        "log(\"ETL Job Ended\")"
      ]
    },
    {
      "cell_type": "markdown",
      "metadata": {
        "id": "D_R9F-OMw3bh"
      },
      "source": [
        "# Exercise\n"
      ]
    },
    {
      "cell_type": "markdown",
      "metadata": {
        "id": "HCj-g57hw3bi"
      },
      "source": [
        "Using the example above complete the exercise below.\n"
      ]
    },
    {
      "cell_type": "markdown",
      "metadata": {
        "id": "nnOuBY2xw3bi"
      },
      "source": [
        "## Download Files\n"
      ]
    },
    {
      "cell_type": "code",
      "execution_count": 18,
      "metadata": {
        "colab": {
          "base_uri": "https://localhost:8080/"
        },
        "id": "S-naVf87w3bi",
        "outputId": "38cf78a6-1424-4346-ba1d-0d4daa28c368"
      },
      "outputs": [
        {
          "output_type": "stream",
          "name": "stdout",
          "text": [
            "--2023-05-29 23:09:39--  https://cf-courses-data.s3.us.cloud-object-storage.appdomain.cloud/IBMDeveloperSkillsNetwork-PY0221EN-SkillsNetwork/labs/module%206/Lab%20-%20Extract%20Transform%20Load/data/datasource.zip\n",
            "Resolving cf-courses-data.s3.us.cloud-object-storage.appdomain.cloud (cf-courses-data.s3.us.cloud-object-storage.appdomain.cloud)... 169.45.118.108\n",
            "Connecting to cf-courses-data.s3.us.cloud-object-storage.appdomain.cloud (cf-courses-data.s3.us.cloud-object-storage.appdomain.cloud)|169.45.118.108|:443... connected.\n",
            "HTTP request sent, awaiting response... 200 OK\n",
            "Length: 4249 (4.1K) [application/zip]\n",
            "Saving to: ‘datasource.zip’\n",
            "\n",
            "datasource.zip      100%[===================>]   4.15K  --.-KB/s    in 0s      \n",
            "\n",
            "2023-05-29 23:09:39 (549 MB/s) - ‘datasource.zip’ saved [4249/4249]\n",
            "\n"
          ]
        }
      ],
      "source": [
        "!wget https://cf-courses-data.s3.us.cloud-object-storage.appdomain.cloud/IBMDeveloperSkillsNetwork-PY0221EN-SkillsNetwork/labs/module%206/Lab%20-%20Extract%20Transform%20Load/data/datasource.zip"
      ]
    },
    {
      "cell_type": "markdown",
      "metadata": {
        "id": "wG0uGA96w3bj"
      },
      "source": [
        "## Unzip Files\n"
      ]
    },
    {
      "cell_type": "code",
      "execution_count": 19,
      "metadata": {
        "colab": {
          "base_uri": "https://localhost:8080/"
        },
        "id": "xKBj5oEyw3b0",
        "outputId": "28b4904e-2d58-499c-9a11-aca00acd77f7"
      },
      "outputs": [
        {
          "output_type": "stream",
          "name": "stdout",
          "text": [
            "Archive:  datasource.zip\n",
            "  inflating: dealership_data/used_car_prices1.csv  \n",
            "  inflating: dealership_data/used_car_prices2.csv  \n",
            "  inflating: dealership_data/used_car_prices3.csv  \n",
            "  inflating: dealership_data/used_car_prices1.json  \n",
            "  inflating: dealership_data/used_car_prices2.json  \n",
            "  inflating: dealership_data/used_car_prices3.json  \n",
            "  inflating: dealership_data/used_car_prices1.xml  \n",
            "  inflating: dealership_data/used_car_prices2.xml  \n",
            "  inflating: dealership_data/used_car_prices3.xml  \n"
          ]
        }
      ],
      "source": [
        "!unzip datasource.zip -d dealership_data"
      ]
    },
    {
      "cell_type": "markdown",
      "metadata": {
        "id": "hX07cZWWw3b1"
      },
      "source": [
        "## About the Data\n"
      ]
    },
    {
      "cell_type": "markdown",
      "metadata": {
        "id": "eGrukJiww3b1"
      },
      "source": [
        "The file `dealership_data` contains CSV, JSON, and XML files for used car data which contain features named `car_model`, `year_of_manufacture`, `price`, and `fuel`.\n"
      ]
    },
    {
      "cell_type": "markdown",
      "metadata": {
        "id": "PpPdZKYXw3b1"
      },
      "source": [
        "## Set Paths\n"
      ]
    },
    {
      "cell_type": "code",
      "execution_count": 20,
      "metadata": {
        "id": "gRnXLbDOw3b1"
      },
      "outputs": [],
      "source": [
        "tmpfile    = \"dealership_temp.tmp\"               # file used to store all extracted data\n",
        "logfile    = \"dealership_logfile.txt\"            # all event logs will be stored in this file\n",
        "targetfile = \"dealership_transformed_data.csv\"   # file where transformed data is stored"
      ]
    },
    {
      "cell_type": "markdown",
      "metadata": {
        "id": "iUkT8HDzw3b1"
      },
      "source": [
        "## Extract\n"
      ]
    },
    {
      "cell_type": "markdown",
      "metadata": {
        "id": "O2vv6qNEw3b1"
      },
      "source": [
        "### Question 1: CSV Extract Function\n"
      ]
    },
    {
      "cell_type": "code",
      "execution_count": 21,
      "metadata": {
        "id": "f1KmlDmww3b2"
      },
      "outputs": [],
      "source": [
        "# Add the CSV extract function below\n",
        "def extract_from_csv(file_to_process):\n",
        "    dataframe = pd.read_csv(file_to_process)\n",
        "    return dataframe"
      ]
    },
    {
      "cell_type": "markdown",
      "metadata": {
        "id": "E0MwAR85w3b2"
      },
      "source": [
        "<details><summary>Click here for the solution</summary>\n",
        "    \n",
        "```\n",
        "    \n",
        "def extract_from_csv(file_to_process):\n",
        "    dataframe = pd.read_csv(file_to_process)\n",
        "    return dataframe\n",
        "```\n",
        "</details>\n"
      ]
    },
    {
      "cell_type": "markdown",
      "metadata": {
        "id": "FUmNP6qnw3b2"
      },
      "source": [
        "### Question 2: JSON Extract Function\n"
      ]
    },
    {
      "cell_type": "code",
      "execution_count": 22,
      "metadata": {
        "id": "-qxKS36Xw3b2"
      },
      "outputs": [],
      "source": [
        "# Add the JSON extract function below\n",
        "def extract_from_json(file_to_process):\n",
        "    dataframe = pd.read_json(file_to_process,lines=True)\n",
        "    return dataframe"
      ]
    },
    {
      "cell_type": "markdown",
      "metadata": {
        "id": "Sj8EWBsWw3b2"
      },
      "source": [
        "<details><summary>Click here for the solution</summary>\n",
        "    \n",
        "```\n",
        "    \n",
        "def extract_from_json(file_to_process):\n",
        "    dataframe = pd.read_json(file_to_process,lines=True)\n",
        "    return dataframe\n",
        "```\n",
        "</details>\n"
      ]
    },
    {
      "cell_type": "markdown",
      "metadata": {
        "id": "Jzls7UVXw3b3"
      },
      "source": [
        "### Question 3: XML Extract Function\n"
      ]
    },
    {
      "cell_type": "code",
      "execution_count": 24,
      "metadata": {
        "id": "9TERgmOiw3b3"
      },
      "outputs": [],
      "source": [
        "# Add the XML extract function below, it is the same as the xml extract function above but the column names need to be renamed.\n",
        "def extract_from_xml(file_to_process):\n",
        "    dataframe = pd.DataFrame(columns=[\"car_model\",\n",
        "     \"year_of_manufacture\",\n",
        "      \"price\", \n",
        "      \"fuel\"])\n",
        "    tree = ET.parse(file_to_process)\n",
        "    root = tree.getroot()\n",
        "    for person in root:\n",
        "        car_model = person.find(\"car_model\").text\n",
        "        year_of_manufacture = int(person.find(\"year_of_manufacture\").text)\n",
        "        price = float(person.find(\"price\").text)\n",
        "        fuel = person.find(\"fuel\").text\n",
        "        dataframe = dataframe.append({\"car_model\":car_model,\n",
        "     \"year_of_manufacture\": year_of_manufacture,\n",
        "      \"price\": price, \n",
        "      \"fuel\": fuel}, ignore_index=True)\n",
        "    return dataframe"
      ]
    },
    {
      "cell_type": "markdown",
      "metadata": {
        "id": "4y2BXfgNw3b3"
      },
      "source": [
        "<details><summary>Click here for the solution</summary>\n",
        "    \n",
        "```\n",
        "    \n",
        "def extract_from_xml(file_to_process):\n",
        "    dataframe = pd.DataFrame(columns=['car_model','year_of_manufacture','price', 'fuel'])\n",
        "    tree = ET.parse(file_to_process)\n",
        "    root = tree.getroot()\n",
        "    for person in root:\n",
        "        car_model = person.find(\"car_model\").text\n",
        "        year_of_manufacture = int(person.find(\"year_of_manufacture\").text)\n",
        "        price = float(person.find(\"price\").text)\n",
        "        fuel = person.find(\"fuel\").text\n",
        "        dataframe = dataframe.append({\"car_model\":car_model, \"year_of_manufacture\":year_of_manufacture, \"price\":price, \"fuel\":fuel}, ignore_index=True)\n",
        "    return dataframe\n",
        "```\n",
        "</details>\n"
      ]
    },
    {
      "cell_type": "markdown",
      "metadata": {
        "id": "8lM8m9hrw3b3"
      },
      "source": [
        "### Question 4: Extract Function\n",
        "\n",
        "Call the specific extract functions you created above by replacing the `ADD_FUNCTION_CALL` with the proper function call.\n"
      ]
    },
    {
      "cell_type": "code",
      "execution_count": 25,
      "metadata": {
        "id": "6i9TCiXbw3b4"
      },
      "outputs": [],
      "source": [
        "def extract():\n",
        "    extracted_data = pd.DataFrame(columns=['car_model','year_of_manufacture','price', 'fuel']) # create an empty data frame to hold extracted data\n",
        "    \n",
        "    #process all csv files\n",
        "    for csvfile in glob.glob(\"dealership_data/*.csv\"):\n",
        "        extracted_data = extracted_data.append(extract_from_csv(csvfile), ignore_index=True)\n",
        "        \n",
        "    #process all json files\n",
        "    for jsonfile in glob.glob(\"dealership_data/*.json\"):\n",
        "        extracted_data = extracted_data.append(extract_from_json(jsonfile), ignore_index=True)\n",
        "    \n",
        "    #process all xml files\n",
        "    for xmlfile in glob.glob(\"dealership_data/*.xml\"):\n",
        "        extracted_data = extracted_data.append(extract_from_xml(xmlfile), ignore_index=True)\n",
        "        \n",
        "    return extracted_data"
      ]
    },
    {
      "cell_type": "markdown",
      "metadata": {
        "id": "npBdjvoOw3b4"
      },
      "source": [
        "<details><summary>Click here for the solution</summary>\n",
        "    \n",
        "```\n",
        "    \n",
        "def extract():\n",
        "    extracted_data = pd.DataFrame(columns=['car_model','year_of_manufacture','price', 'fuel']) # create an empty data frame to hold extracted data\n",
        "    \n",
        "    #process all csv files\n",
        "    for csvfile in glob.glob(\"dealership_data/*.csv\"):\n",
        "        extracted_data = extracted_data.append(extract_from_csv(csvfile), ignore_index=True)\n",
        "        \n",
        "    #process all json files\n",
        "    for jsonfile in glob.glob(\"dealership_data/*.json\"):\n",
        "        extracted_data = extracted_data.append(extract_from_json(jsonfile), ignore_index=True)\n",
        "    \n",
        "    #process all xml files\n",
        "    for xmlfile in glob.glob(\"dealership_data/*.xml\"):\n",
        "        extracted_data = extracted_data.append(extract_from_xml(xmlfile), ignore_index=True)\n",
        "        \n",
        "    return extracted_data\n",
        "```\n",
        "</details>\n"
      ]
    },
    {
      "cell_type": "markdown",
      "metadata": {
        "id": "dTKIhtXTw3b4"
      },
      "source": [
        "## Transform\n"
      ]
    },
    {
      "cell_type": "markdown",
      "metadata": {
        "id": "NDbt7GSew3b4"
      },
      "source": [
        "### Question 5: Transform\n",
        "\n",
        "Round the `price` columns to 2 decimal places\n"
      ]
    },
    {
      "cell_type": "code",
      "execution_count": 26,
      "metadata": {
        "id": "aVds0ciXw3b4"
      },
      "outputs": [],
      "source": [
        "# Add the transform function below\n",
        "def transform(data):\n",
        "  data['price'] = data['price'].round(2)\n",
        "  return data"
      ]
    },
    {
      "cell_type": "markdown",
      "metadata": {
        "id": "h0J1REC1w3b5"
      },
      "source": [
        "<details><summary>Click here for the solution</summary>\n",
        "    \n",
        "```\n",
        "\n",
        "def transform(data):\n",
        "        data['price'] = round(data.price, 2)\n",
        "        return data\n",
        "```\n",
        "</details>\n"
      ]
    },
    {
      "cell_type": "markdown",
      "metadata": {
        "id": "aWzj66SCw3b5"
      },
      "source": [
        "## Loading\n"
      ]
    },
    {
      "cell_type": "markdown",
      "metadata": {
        "id": "ozY5iOXhw3b5"
      },
      "source": [
        "### Question 6: Load\n"
      ]
    },
    {
      "cell_type": "code",
      "execution_count": 27,
      "metadata": {
        "id": "QbHwRF-Nw3b5"
      },
      "outputs": [],
      "source": [
        "# Add the load function below\n",
        "def load(targetfile,data_to_load):\n",
        "    data_to_load.to_csv(targetfile)  "
      ]
    },
    {
      "cell_type": "markdown",
      "metadata": {
        "id": "sDR0An9Xw3b5"
      },
      "source": [
        "<details><summary>Click here for the solution</summary>\n",
        "    \n",
        "```\n",
        "\n",
        "def load(targetfile,data_to_load):\n",
        "    data_to_load.to_csv(targetfile)  \n",
        "```\n",
        "</details>\n"
      ]
    },
    {
      "cell_type": "markdown",
      "metadata": {
        "id": "pvK_aYtTw3b6"
      },
      "source": [
        "## Logging\n"
      ]
    },
    {
      "cell_type": "markdown",
      "metadata": {
        "id": "oS1R6bHow3b6"
      },
      "source": [
        "### Question 7: Log\n",
        "\n",
        "Make sure to change the name of the logfile to the one specified in the set paths section. Change the timestamp order to Hour-Minute-Second-Monthname-Day-Year.\n"
      ]
    },
    {
      "cell_type": "code",
      "execution_count": 29,
      "metadata": {
        "id": "nMiNCJYmw3b6"
      },
      "outputs": [],
      "source": [
        "# Add the log function below\n",
        "def log(message):\n",
        "    timestamp_format = '%Y-%h-%d-%H:%M:%S' # Year-Monthname-Day-Hour-Minute-Second\n",
        "    now = datetime.now() # get current timestamp\n",
        "    timestamp = now.strftime(timestamp_format)\n",
        "    with open(\"dealership_logfile.txt\",\"a\") as f:\n",
        "        f.write(timestamp + ',' + message + '\\n')"
      ]
    },
    {
      "cell_type": "markdown",
      "metadata": {
        "id": "KfURv3Fjw3b6"
      },
      "source": [
        "<details><summary>Click here for the solution</summary>\n",
        "    \n",
        "```\n",
        "\n",
        "def log(message):\n",
        "    timestamp_format = '%H:%M:%S-%h-%d-%Y' #Hour-Minute-Second-MonthName-Day-Year\n",
        "    now = datetime.now() # get current timestamp\n",
        "    timestamp = now.strftime(timestamp_format)\n",
        "    with open(\"dealership_logfile.txt\",\"a\") as f:\n",
        "        f.write(timestamp + ',' + message + '\\n') \n",
        "```\n",
        "</details>\n"
      ]
    },
    {
      "cell_type": "markdown",
      "metadata": {
        "id": "_LQ4FUI_w3b6"
      },
      "source": [
        "## Running ETL Process\n"
      ]
    },
    {
      "cell_type": "markdown",
      "metadata": {
        "id": "Ju6rTB8hw3b6"
      },
      "source": [
        "### Question 8: ETL Process\n",
        "\n",
        "Run all functions to extract, transform, and load the data. Make sure to log all events using the `log` function. Place your code under each comment.\n"
      ]
    },
    {
      "cell_type": "code",
      "execution_count": 30,
      "metadata": {
        "colab": {
          "base_uri": "https://localhost:8080/"
        },
        "id": "C6z3aUfOw3b6",
        "outputId": "99f57637-1ca6-4ece-b8a3-52ccc952ef57"
      },
      "outputs": [
        {
          "output_type": "stream",
          "name": "stderr",
          "text": [
            "<ipython-input-25-a9fa61460f17>:6: FutureWarning: The frame.append method is deprecated and will be removed from pandas in a future version. Use pandas.concat instead.\n",
            "  extracted_data = extracted_data.append(extract_from_csv(csvfile), ignore_index=True)\n",
            "<ipython-input-25-a9fa61460f17>:6: FutureWarning: The frame.append method is deprecated and will be removed from pandas in a future version. Use pandas.concat instead.\n",
            "  extracted_data = extracted_data.append(extract_from_csv(csvfile), ignore_index=True)\n",
            "<ipython-input-25-a9fa61460f17>:6: FutureWarning: The frame.append method is deprecated and will be removed from pandas in a future version. Use pandas.concat instead.\n",
            "  extracted_data = extracted_data.append(extract_from_csv(csvfile), ignore_index=True)\n",
            "<ipython-input-25-a9fa61460f17>:10: FutureWarning: The frame.append method is deprecated and will be removed from pandas in a future version. Use pandas.concat instead.\n",
            "  extracted_data = extracted_data.append(extract_from_json(jsonfile), ignore_index=True)\n",
            "<ipython-input-25-a9fa61460f17>:10: FutureWarning: The frame.append method is deprecated and will be removed from pandas in a future version. Use pandas.concat instead.\n",
            "  extracted_data = extracted_data.append(extract_from_json(jsonfile), ignore_index=True)\n",
            "<ipython-input-25-a9fa61460f17>:10: FutureWarning: The frame.append method is deprecated and will be removed from pandas in a future version. Use pandas.concat instead.\n",
            "  extracted_data = extracted_data.append(extract_from_json(jsonfile), ignore_index=True)\n",
            "<ipython-input-24-36c5669a426d>:14: FutureWarning: The frame.append method is deprecated and will be removed from pandas in a future version. Use pandas.concat instead.\n",
            "  dataframe = dataframe.append({\"car_model\":car_model,\n",
            "<ipython-input-24-36c5669a426d>:14: FutureWarning: The frame.append method is deprecated and will be removed from pandas in a future version. Use pandas.concat instead.\n",
            "  dataframe = dataframe.append({\"car_model\":car_model,\n",
            "<ipython-input-24-36c5669a426d>:14: FutureWarning: The frame.append method is deprecated and will be removed from pandas in a future version. Use pandas.concat instead.\n",
            "  dataframe = dataframe.append({\"car_model\":car_model,\n",
            "<ipython-input-24-36c5669a426d>:14: FutureWarning: The frame.append method is deprecated and will be removed from pandas in a future version. Use pandas.concat instead.\n",
            "  dataframe = dataframe.append({\"car_model\":car_model,\n",
            "<ipython-input-24-36c5669a426d>:14: FutureWarning: The frame.append method is deprecated and will be removed from pandas in a future version. Use pandas.concat instead.\n",
            "  dataframe = dataframe.append({\"car_model\":car_model,\n",
            "<ipython-input-24-36c5669a426d>:14: FutureWarning: The frame.append method is deprecated and will be removed from pandas in a future version. Use pandas.concat instead.\n",
            "  dataframe = dataframe.append({\"car_model\":car_model,\n",
            "<ipython-input-24-36c5669a426d>:14: FutureWarning: The frame.append method is deprecated and will be removed from pandas in a future version. Use pandas.concat instead.\n",
            "  dataframe = dataframe.append({\"car_model\":car_model,\n",
            "<ipython-input-24-36c5669a426d>:14: FutureWarning: The frame.append method is deprecated and will be removed from pandas in a future version. Use pandas.concat instead.\n",
            "  dataframe = dataframe.append({\"car_model\":car_model,\n",
            "<ipython-input-24-36c5669a426d>:14: FutureWarning: The frame.append method is deprecated and will be removed from pandas in a future version. Use pandas.concat instead.\n",
            "  dataframe = dataframe.append({\"car_model\":car_model,\n",
            "<ipython-input-24-36c5669a426d>:14: FutureWarning: The frame.append method is deprecated and will be removed from pandas in a future version. Use pandas.concat instead.\n",
            "  dataframe = dataframe.append({\"car_model\":car_model,\n",
            "<ipython-input-25-a9fa61460f17>:14: FutureWarning: The frame.append method is deprecated and will be removed from pandas in a future version. Use pandas.concat instead.\n",
            "  extracted_data = extracted_data.append(extract_from_xml(xmlfile), ignore_index=True)\n",
            "<ipython-input-24-36c5669a426d>:14: FutureWarning: The frame.append method is deprecated and will be removed from pandas in a future version. Use pandas.concat instead.\n",
            "  dataframe = dataframe.append({\"car_model\":car_model,\n",
            "<ipython-input-24-36c5669a426d>:14: FutureWarning: The frame.append method is deprecated and will be removed from pandas in a future version. Use pandas.concat instead.\n",
            "  dataframe = dataframe.append({\"car_model\":car_model,\n",
            "<ipython-input-24-36c5669a426d>:14: FutureWarning: The frame.append method is deprecated and will be removed from pandas in a future version. Use pandas.concat instead.\n",
            "  dataframe = dataframe.append({\"car_model\":car_model,\n",
            "<ipython-input-24-36c5669a426d>:14: FutureWarning: The frame.append method is deprecated and will be removed from pandas in a future version. Use pandas.concat instead.\n",
            "  dataframe = dataframe.append({\"car_model\":car_model,\n",
            "<ipython-input-24-36c5669a426d>:14: FutureWarning: The frame.append method is deprecated and will be removed from pandas in a future version. Use pandas.concat instead.\n",
            "  dataframe = dataframe.append({\"car_model\":car_model,\n",
            "<ipython-input-24-36c5669a426d>:14: FutureWarning: The frame.append method is deprecated and will be removed from pandas in a future version. Use pandas.concat instead.\n",
            "  dataframe = dataframe.append({\"car_model\":car_model,\n",
            "<ipython-input-24-36c5669a426d>:14: FutureWarning: The frame.append method is deprecated and will be removed from pandas in a future version. Use pandas.concat instead.\n",
            "  dataframe = dataframe.append({\"car_model\":car_model,\n",
            "<ipython-input-24-36c5669a426d>:14: FutureWarning: The frame.append method is deprecated and will be removed from pandas in a future version. Use pandas.concat instead.\n",
            "  dataframe = dataframe.append({\"car_model\":car_model,\n",
            "<ipython-input-24-36c5669a426d>:14: FutureWarning: The frame.append method is deprecated and will be removed from pandas in a future version. Use pandas.concat instead.\n",
            "  dataframe = dataframe.append({\"car_model\":car_model,\n",
            "<ipython-input-24-36c5669a426d>:14: FutureWarning: The frame.append method is deprecated and will be removed from pandas in a future version. Use pandas.concat instead.\n",
            "  dataframe = dataframe.append({\"car_model\":car_model,\n",
            "<ipython-input-25-a9fa61460f17>:14: FutureWarning: The frame.append method is deprecated and will be removed from pandas in a future version. Use pandas.concat instead.\n",
            "  extracted_data = extracted_data.append(extract_from_xml(xmlfile), ignore_index=True)\n",
            "<ipython-input-24-36c5669a426d>:14: FutureWarning: The frame.append method is deprecated and will be removed from pandas in a future version. Use pandas.concat instead.\n",
            "  dataframe = dataframe.append({\"car_model\":car_model,\n",
            "<ipython-input-24-36c5669a426d>:14: FutureWarning: The frame.append method is deprecated and will be removed from pandas in a future version. Use pandas.concat instead.\n",
            "  dataframe = dataframe.append({\"car_model\":car_model,\n",
            "<ipython-input-24-36c5669a426d>:14: FutureWarning: The frame.append method is deprecated and will be removed from pandas in a future version. Use pandas.concat instead.\n",
            "  dataframe = dataframe.append({\"car_model\":car_model,\n",
            "<ipython-input-24-36c5669a426d>:14: FutureWarning: The frame.append method is deprecated and will be removed from pandas in a future version. Use pandas.concat instead.\n",
            "  dataframe = dataframe.append({\"car_model\":car_model,\n",
            "<ipython-input-24-36c5669a426d>:14: FutureWarning: The frame.append method is deprecated and will be removed from pandas in a future version. Use pandas.concat instead.\n",
            "  dataframe = dataframe.append({\"car_model\":car_model,\n",
            "<ipython-input-24-36c5669a426d>:14: FutureWarning: The frame.append method is deprecated and will be removed from pandas in a future version. Use pandas.concat instead.\n",
            "  dataframe = dataframe.append({\"car_model\":car_model,\n",
            "<ipython-input-24-36c5669a426d>:14: FutureWarning: The frame.append method is deprecated and will be removed from pandas in a future version. Use pandas.concat instead.\n",
            "  dataframe = dataframe.append({\"car_model\":car_model,\n",
            "<ipython-input-24-36c5669a426d>:14: FutureWarning: The frame.append method is deprecated and will be removed from pandas in a future version. Use pandas.concat instead.\n",
            "  dataframe = dataframe.append({\"car_model\":car_model,\n",
            "<ipython-input-24-36c5669a426d>:14: FutureWarning: The frame.append method is deprecated and will be removed from pandas in a future version. Use pandas.concat instead.\n",
            "  dataframe = dataframe.append({\"car_model\":car_model,\n",
            "<ipython-input-24-36c5669a426d>:14: FutureWarning: The frame.append method is deprecated and will be removed from pandas in a future version. Use pandas.concat instead.\n",
            "  dataframe = dataframe.append({\"car_model\":car_model,\n",
            "<ipython-input-25-a9fa61460f17>:14: FutureWarning: The frame.append method is deprecated and will be removed from pandas in a future version. Use pandas.concat instead.\n",
            "  extracted_data = extracted_data.append(extract_from_xml(xmlfile), ignore_index=True)\n"
          ]
        }
      ],
      "source": [
        "# Log that you have started the ETL process\n",
        "log('started ETL')\n",
        "\n",
        "# Log that you have started the Extract step\n",
        "log('starting extract')\n",
        "\n",
        "# Call the Extract function\n",
        "extract_data = extract()\n",
        "\n",
        "# Log that you have completed the Extract step\n",
        "log('extract completed')\n",
        "\n",
        "# Log that you have started the Transform step\n",
        "log('starting transform')\n",
        "\n",
        "# Call the Transform function\n",
        "trans_data = transform(extract_data)\n",
        "\n",
        "# Log that you have completed the Transform step\n",
        "log('transform completed')\n",
        "\n",
        "# Log that you have started the Load step\n",
        "log('start load')\n",
        "\n",
        "# Call the Load function\n",
        "load(targetfile, trans_data)\n",
        "\n",
        "# Log that you have completed the Load step\n",
        "log('completed load')\n",
        "\n",
        "# Log that you have completed the ETL process\n",
        "log('completed etl')"
      ]
    },
    {
      "cell_type": "markdown",
      "metadata": {
        "id": "h_SRTY9Tw3b7"
      },
      "source": [
        "<details><summary>Click here for the solution</summary>\n",
        "    \n",
        "```\n",
        "\n",
        "log(\"ETL Job Started\")\n",
        "\n",
        "log(\"Extract phase Started\")\n",
        "extracted_data = extract()\n",
        "log(\"Extract phase Ended\")\n",
        "\n",
        "log(\"Transform phase Started\")\n",
        "transformed_data = transform(extracted_data)\n",
        "log(\"Transform phase Ended\")\n",
        "\n",
        "log(\"Load phase Started\")\n",
        "load(targetfile,transformed_data)\n",
        "log(\"Load phase Ended\")\n",
        "\n",
        "log(\"ETL Job Ended\")\n",
        "```\n",
        "</details>\n"
      ]
    },
    {
      "cell_type": "markdown",
      "metadata": {
        "id": "G3HG_WCTw3b7"
      },
      "source": [
        "## Authors\n"
      ]
    },
    {
      "cell_type": "markdown",
      "metadata": {
        "id": "-_i7SE0Iw3b7"
      },
      "source": [
        "Ramesh Sannareddy\n",
        "\n",
        "Joseph Santarcangelo\n",
        "\n",
        "Azim Hirjani\n"
      ]
    },
    {
      "cell_type": "markdown",
      "metadata": {
        "id": "lAH7ZPtxw3b7"
      },
      "source": [
        "## Change Log\n"
      ]
    },
    {
      "cell_type": "markdown",
      "metadata": {
        "id": "5M6UFhp7w3b7"
      },
      "source": [
        "| Date (YYYY-MM-DD) | Version | Changed By        | Change Description                 |\n",
        "| ----------------- | ------- | ----------------- | ---------------------------------- |\n",
        "| 2020-11-25        | 0.1     | Ramesh Sannareddy | Created initial version of the lab |\n"
      ]
    },
    {
      "cell_type": "markdown",
      "metadata": {
        "id": "maKhluKEw3b7"
      },
      "source": [
        " Copyright © 2020 IBM Corporation. This notebook and its source code are released under the terms of the [MIT License](https://cognitiveclass.ai/mit-license?utm_medium=Exinfluencer&utm_source=Exinfluencer&utm_content=000026UJ&utm_term=10006555&utm_id=NA-SkillsNetwork-Channel-SkillsNetworkCoursesIBMDeveloperSkillsNetworkPY0221ENSkillsNetwork899-2023-01-01&cm_mmc=Email_Newsletter-_-Developer_Ed%2BTech-_-WW_WW-_-SkillsNetwork-Courses-IBMDeveloperSkillsNetwork-PY0221EN-SkillsNetwork-23455645&cm_mmca1=000026UJ&cm_mmca2=10006555&cm_mmca3=M12345678&cvosrc=email.Newsletter.M12345678&cvo_campaign=000026UJ).\n"
      ]
    }
  ],
  "metadata": {
    "kernelspec": {
      "display_name": "Python",
      "language": "python",
      "name": "conda-env-python-py"
    },
    "language_info": {
      "name": ""
    },
    "colab": {
      "provenance": []
    }
  },
  "nbformat": 4,
  "nbformat_minor": 0
}