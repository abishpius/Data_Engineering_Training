{
  "cells": [
    {
      "cell_type": "markdown",
      "metadata": {
        "id": "n-PKQWDJmn70"
      },
      "source": [
        "<center>\n",
        "    <img src=\"https://cf-courses-data.s3.us.cloud-object-storage.appdomain.cloud/IBMDeveloperSkillsNetwork-DB0201EN-SkillsNetwork/labs/FinalModule_Coursera_V5/images/SN_web_lightmode.png\" width=\"300\" alt=\"cognitiveclass.ai logo\">\n",
        "</center>\n",
        "\n",
        "# Create & Access SQLite database using Python\n",
        "\n",
        "Estimated time needed: **15** minutes\n",
        "\n",
        "## Objectives\n",
        "\n",
        "After completing this lab you will be able to:\n",
        "\n",
        "*   Create a database\n",
        "*   Create a table\n",
        "*   Insert data into the table\n",
        "*   Query data from the table\n",
        "*   Retrieve the result set into a pandas dataframe\n",
        "*   Close the database connection\n"
      ]
    },
    {
      "cell_type": "markdown",
      "metadata": {
        "id": "YXgDFa2Bmn78"
      },
      "source": [
        "SQLite is a software library that implements a self-contained, serverless, zero-configuration, transactional SQL database engine. SQLite is the most widely deployed SQL database engine in the world.\n",
        "\n",
        "## Task 1: Create database using SQLite\n"
      ]
    },
    {
      "cell_type": "code",
      "execution_count": 2,
      "metadata": {
        "id": "VQBGkGsWmn79"
      },
      "outputs": [],
      "source": [
        "#Install & load sqlite3\n",
        "#!pip install sqlite3  ##Uncomment the code to install sqlite3\n",
        "import sqlite3"
      ]
    },
    {
      "cell_type": "code",
      "execution_count": 3,
      "metadata": {
        "id": "ytMiBfx5mn7-"
      },
      "outputs": [],
      "source": [
        "# Connecting to sqlite\n",
        "# connection object\n",
        "conn = sqlite3.connect('INSTRUCTOR.db')"
      ]
    },
    {
      "cell_type": "markdown",
      "metadata": {
        "id": "53ePdgmgmn7_"
      },
      "source": [
        "Cursor class is an instance using which you can invoke methods that execute SQLite statements, fetch data from the result sets of the queries. You can create Cursor object using the cursor() method of the Connection object/class.\n"
      ]
    },
    {
      "cell_type": "code",
      "execution_count": 4,
      "metadata": {
        "scrolled": true,
        "id": "CIzoygnxmn7_"
      },
      "outputs": [],
      "source": [
        "# cursor object\n",
        "cursor_obj = conn.cursor()"
      ]
    },
    {
      "cell_type": "markdown",
      "metadata": {
        "id": "znFHOSNwmn8A"
      },
      "source": [
        "## Task 2: Create a table in the database\n",
        "\n",
        "In this step we will create a table in the database with following details:\n",
        "\n",
        "<img src=\"https://cf-courses-data.s3.us.cloud-object-storage.appdomain.cloud/IBMDeveloperSkillsNetwork-DB0201EN-SkillsNetwork/labs/FinalModule_Coursera_V5/images/table.png\" align=\"center\">\n"
      ]
    },
    {
      "cell_type": "markdown",
      "metadata": {
        "id": "MDAJXCNmmn8A"
      },
      "source": [
        "Before creating a table, let's first if the table already exist or not. To drop the table from a database use **DROP** query. A cursor is an object which helps to execute the query and fetch the records from the database.\n"
      ]
    },
    {
      "cell_type": "code",
      "execution_count": 5,
      "metadata": {
        "colab": {
          "base_uri": "https://localhost:8080/"
        },
        "id": "0Qyom8ihmn8B",
        "outputId": "18c15ed9-c728-411b-d3ac-d74bb704b91e"
      },
      "outputs": [
        {
          "output_type": "execute_result",
          "data": {
            "text/plain": [
              "<sqlite3.Cursor at 0x7eff242727c0>"
            ]
          },
          "metadata": {},
          "execution_count": 5
        }
      ],
      "source": [
        "# Drop the table if already exists.\n",
        "cursor_obj.execute(\"DROP TABLE IF EXISTS INSTRUCTOR\")"
      ]
    },
    {
      "cell_type": "markdown",
      "metadata": {
        "id": "afk8Fjplmn8C"
      },
      "source": [
        "## Dont worry if you get this error:\n",
        "\n",
        "If you see an exception/error similar to the following, indicating that INSTRUCTOR is an undefined name, that's okay. It just implies that the INSTRUCTOR table does not exist in the table - which would be the case if you had not created it previously.\n",
        "\n",
        "<strong>Exception: \\[IBM]\\[CLI Driver]\\[DB2/LINUXX8664] SQL0204N  \"ABC12345.INSTRUCTOR\" is an undefined name.  SQLSTATE=42704 SQLCODE=-204</strong>\n"
      ]
    },
    {
      "cell_type": "code",
      "execution_count": 6,
      "metadata": {
        "colab": {
          "base_uri": "https://localhost:8080/"
        },
        "id": "256u8z-Gmn8C",
        "outputId": "52fc6983-306b-4b3d-f03c-1a0f16546b72"
      },
      "outputs": [
        {
          "output_type": "stream",
          "name": "stdout",
          "text": [
            "Table is Ready\n"
          ]
        }
      ],
      "source": [
        "# Creating table\n",
        "table = \"\"\" create table IF NOT EXISTS INSTRUCTOR(ID INTEGER PRIMARY KEY NOT NULL, FNAME VARCHAR(20), LNAME VARCHAR(20), CITY VARCHAR(20), CCODE CHAR(2));\"\"\"\n",
        " \n",
        "cursor_obj.execute(table)\n",
        " \n",
        "print(\"Table is Ready\")"
      ]
    },
    {
      "cell_type": "markdown",
      "metadata": {
        "id": "fErvKErymn8C"
      },
      "source": [
        "## Task 3: Insert data into the table\n",
        "\n",
        "In this step we will insert some rows of data into the table.\n",
        "\n",
        "The INSTRUCTOR table we created in the previous step contains 3 rows of data:\n",
        "\n",
        "<img src=\"https://cf-courses-data.s3.us.cloud-object-storage.appdomain.cloud/IBMDeveloperSkillsNetwork-DB0201EN-SkillsNetwork/labs/FinalModule_Coursera_V5/images/table1.png\" align=\"center\">\n",
        "\n",
        "We will start by inserting just the first row of data, i.e. for instructor Rav Ahuja\n"
      ]
    },
    {
      "cell_type": "code",
      "execution_count": 7,
      "metadata": {
        "colab": {
          "base_uri": "https://localhost:8080/"
        },
        "id": "vlLYk24amn8C",
        "outputId": "86c06fd6-f5a5-4b14-8207-1d3c2a8fe68c"
      },
      "outputs": [
        {
          "output_type": "execute_result",
          "data": {
            "text/plain": [
              "<sqlite3.Cursor at 0x7eff242727c0>"
            ]
          },
          "metadata": {},
          "execution_count": 7
        }
      ],
      "source": [
        "cursor_obj.execute('''insert into INSTRUCTOR values (1, 'Rav', 'Ahuja', 'TORONTO', 'CA')''')"
      ]
    },
    {
      "cell_type": "markdown",
      "metadata": {
        "id": "qGmLXcJOmn8D"
      },
      "source": [
        "The output you will get something as: <strong>sqlite3.Cursor at 0x27a1a491260</strong> which means mySql database has sqlite3.Cursor object at 0x27a1a49126 as output in table. But you may get the different number.\n",
        "\n",
        "Now use a single query to insert the remaining two rows of data\n"
      ]
    },
    {
      "cell_type": "code",
      "execution_count": 8,
      "metadata": {
        "colab": {
          "base_uri": "https://localhost:8080/"
        },
        "id": "scfQB9R3mn8D",
        "outputId": "41969eb5-eebb-4b72-a708-285ceb506f50"
      },
      "outputs": [
        {
          "output_type": "execute_result",
          "data": {
            "text/plain": [
              "<sqlite3.Cursor at 0x7eff242727c0>"
            ]
          },
          "metadata": {},
          "execution_count": 8
        }
      ],
      "source": [
        "cursor_obj.execute('''insert into INSTRUCTOR values (2, 'Raul', 'Chong', 'Markham', 'CA'), (3, 'Hima', 'Vasudevan', 'Chicago', 'US')''')"
      ]
    },
    {
      "cell_type": "markdown",
      "metadata": {
        "id": "rEfbFgtZmn8D"
      },
      "source": [
        "## Task 4: Query data in the table\n",
        "\n",
        "In this step we will retrieve data we inserted into the INSTRUCTOR table.\n"
      ]
    },
    {
      "cell_type": "code",
      "execution_count": 9,
      "metadata": {
        "colab": {
          "base_uri": "https://localhost:8080/"
        },
        "id": "ko76TQEOmn8D",
        "outputId": "764bbf81-6d20-4cee-f44b-0e238dc05c3b"
      },
      "outputs": [
        {
          "output_type": "stream",
          "name": "stdout",
          "text": [
            "All the data\n",
            "(1, 'Rav', 'Ahuja', 'TORONTO', 'CA')\n",
            "(2, 'Raul', 'Chong', 'Markham', 'CA')\n",
            "(3, 'Hima', 'Vasudevan', 'Chicago', 'US')\n"
          ]
        }
      ],
      "source": [
        "statement = '''SELECT * FROM INSTRUCTOR'''\n",
        "cursor_obj.execute(statement)\n",
        "\n",
        "print(\"All the data\")\n",
        "output_all = cursor_obj.fetchall()\n",
        "for row_all in output_all:\n",
        "  print(row_all)"
      ]
    },
    {
      "cell_type": "code",
      "execution_count": 10,
      "metadata": {
        "colab": {
          "base_uri": "https://localhost:8080/"
        },
        "id": "5b3OGv01mn8D",
        "outputId": "c20f2513-28cb-40b4-af4e-a35679bf6041"
      },
      "outputs": [
        {
          "output_type": "stream",
          "name": "stdout",
          "text": [
            "All the data\n",
            "(1, 'Rav', 'Ahuja', 'TORONTO', 'CA')\n",
            "(2, 'Raul', 'Chong', 'Markham', 'CA')\n"
          ]
        }
      ],
      "source": [
        "## Fetch few rows from the table\n",
        "statement = '''SELECT * FROM INSTRUCTOR'''\n",
        "cursor_obj.execute(statement)\n",
        "  \n",
        "print(\"All the data\")\n",
        "# If you want to fetch few rows from the table we use fetchmany(numberofrows) and mention the number how many rows you want to fetch\n",
        "output_many = cursor_obj.fetchmany(2) \n",
        "for row_many in output_many:\n",
        "  print(row_many)"
      ]
    },
    {
      "cell_type": "code",
      "execution_count": 11,
      "metadata": {
        "scrolled": true,
        "colab": {
          "base_uri": "https://localhost:8080/"
        },
        "id": "wWPtwJAZmn8E",
        "outputId": "b64c6a60-784c-4474-a77e-3fc93d7f5a17"
      },
      "outputs": [
        {
          "output_type": "stream",
          "name": "stdout",
          "text": [
            "All the data\n",
            "('Rav',)\n",
            "('Raul',)\n",
            "('Hima',)\n"
          ]
        }
      ],
      "source": [
        "# Fetch only FNAME from the table\n",
        "statement = '''SELECT FNAME FROM INSTRUCTOR'''\n",
        "cursor_obj.execute(statement)\n",
        "  \n",
        "print(\"All the data\")\n",
        "output_column = cursor_obj.fetchall()\n",
        "for fetch in output_column:\n",
        "  print(fetch)"
      ]
    },
    {
      "cell_type": "markdown",
      "metadata": {
        "id": "T5T5LXfVmn8E"
      },
      "source": [
        "<Strong>Bonus: now write and execute an update statement that changes the Rav's CITY to MOOSETOWN</strong>\n"
      ]
    },
    {
      "cell_type": "code",
      "execution_count": 12,
      "metadata": {
        "colab": {
          "base_uri": "https://localhost:8080/"
        },
        "id": "Yf0KJWDCmn8E",
        "outputId": "f1e1cece-5fdf-4759-8153-0b6b76fd10fd"
      },
      "outputs": [
        {
          "output_type": "execute_result",
          "data": {
            "text/plain": [
              "<sqlite3.Cursor at 0x7eff242727c0>"
            ]
          },
          "metadata": {},
          "execution_count": 12
        }
      ],
      "source": [
        "query_update='''update INSTRUCTOR set CITY='MOOSETOWN' where FNAME=\"Rav\"'''\n",
        "cursor_obj.execute(query_update)"
      ]
    },
    {
      "cell_type": "code",
      "execution_count": 13,
      "metadata": {
        "scrolled": true,
        "colab": {
          "base_uri": "https://localhost:8080/"
        },
        "id": "bRSbUxAFmn8F",
        "outputId": "83b0d842-bc9c-436c-b226-0dce0ee19da4"
      },
      "outputs": [
        {
          "output_type": "stream",
          "name": "stdout",
          "text": [
            "All the data\n",
            "(1, 'Rav', 'Ahuja', 'MOOSETOWN', 'CA')\n",
            "(2, 'Raul', 'Chong', 'Markham', 'CA')\n"
          ]
        }
      ],
      "source": [
        "statement = '''SELECT * FROM INSTRUCTOR'''\n",
        "cursor_obj.execute(statement)\n",
        "  \n",
        "print(\"All the data\")\n",
        "output1 = cursor_obj.fetchmany(2)\n",
        "for row in output1:\n",
        "  print(row)"
      ]
    },
    {
      "cell_type": "markdown",
      "metadata": {
        "id": "DB4uii6lmn8F"
      },
      "source": [
        "## Task 5: Retrieve data into Pandas\n",
        "\n",
        "In this step we will retrieve the contents of the INSTRUCTOR table into a Pandas dataframe\n"
      ]
    },
    {
      "cell_type": "code",
      "execution_count": 14,
      "metadata": {
        "colab": {
          "base_uri": "https://localhost:8080/",
          "height": 143
        },
        "id": "xnJY79cJmn8F",
        "outputId": "b9754dd4-643c-4055-cb45-85607285c8ca"
      },
      "outputs": [
        {
          "output_type": "execute_result",
          "data": {
            "text/plain": [
              "   ID FNAME      LNAME       CITY CCODE\n",
              "0   1   Rav      Ahuja  MOOSETOWN    CA\n",
              "1   2  Raul      Chong    Markham    CA\n",
              "2   3  Hima  Vasudevan    Chicago    US"
            ],
            "text/html": [
              "\n",
              "  <div id=\"df-a114adf1-d7a1-47aa-a974-dfd32cde630a\">\n",
              "    <div class=\"colab-df-container\">\n",
              "      <div>\n",
              "<style scoped>\n",
              "    .dataframe tbody tr th:only-of-type {\n",
              "        vertical-align: middle;\n",
              "    }\n",
              "\n",
              "    .dataframe tbody tr th {\n",
              "        vertical-align: top;\n",
              "    }\n",
              "\n",
              "    .dataframe thead th {\n",
              "        text-align: right;\n",
              "    }\n",
              "</style>\n",
              "<table border=\"1\" class=\"dataframe\">\n",
              "  <thead>\n",
              "    <tr style=\"text-align: right;\">\n",
              "      <th></th>\n",
              "      <th>ID</th>\n",
              "      <th>FNAME</th>\n",
              "      <th>LNAME</th>\n",
              "      <th>CITY</th>\n",
              "      <th>CCODE</th>\n",
              "    </tr>\n",
              "  </thead>\n",
              "  <tbody>\n",
              "    <tr>\n",
              "      <th>0</th>\n",
              "      <td>1</td>\n",
              "      <td>Rav</td>\n",
              "      <td>Ahuja</td>\n",
              "      <td>MOOSETOWN</td>\n",
              "      <td>CA</td>\n",
              "    </tr>\n",
              "    <tr>\n",
              "      <th>1</th>\n",
              "      <td>2</td>\n",
              "      <td>Raul</td>\n",
              "      <td>Chong</td>\n",
              "      <td>Markham</td>\n",
              "      <td>CA</td>\n",
              "    </tr>\n",
              "    <tr>\n",
              "      <th>2</th>\n",
              "      <td>3</td>\n",
              "      <td>Hima</td>\n",
              "      <td>Vasudevan</td>\n",
              "      <td>Chicago</td>\n",
              "      <td>US</td>\n",
              "    </tr>\n",
              "  </tbody>\n",
              "</table>\n",
              "</div>\n",
              "      <button class=\"colab-df-convert\" onclick=\"convertToInteractive('df-a114adf1-d7a1-47aa-a974-dfd32cde630a')\"\n",
              "              title=\"Convert this dataframe to an interactive table.\"\n",
              "              style=\"display:none;\">\n",
              "        \n",
              "  <svg xmlns=\"http://www.w3.org/2000/svg\" height=\"24px\"viewBox=\"0 0 24 24\"\n",
              "       width=\"24px\">\n",
              "    <path d=\"M0 0h24v24H0V0z\" fill=\"none\"/>\n",
              "    <path d=\"M18.56 5.44l.94 2.06.94-2.06 2.06-.94-2.06-.94-.94-2.06-.94 2.06-2.06.94zm-11 1L8.5 8.5l.94-2.06 2.06-.94-2.06-.94L8.5 2.5l-.94 2.06-2.06.94zm10 10l.94 2.06.94-2.06 2.06-.94-2.06-.94-.94-2.06-.94 2.06-2.06.94z\"/><path d=\"M17.41 7.96l-1.37-1.37c-.4-.4-.92-.59-1.43-.59-.52 0-1.04.2-1.43.59L10.3 9.45l-7.72 7.72c-.78.78-.78 2.05 0 2.83L4 21.41c.39.39.9.59 1.41.59.51 0 1.02-.2 1.41-.59l7.78-7.78 2.81-2.81c.8-.78.8-2.07 0-2.86zM5.41 20L4 18.59l7.72-7.72 1.47 1.35L5.41 20z\"/>\n",
              "  </svg>\n",
              "      </button>\n",
              "      \n",
              "  <style>\n",
              "    .colab-df-container {\n",
              "      display:flex;\n",
              "      flex-wrap:wrap;\n",
              "      gap: 12px;\n",
              "    }\n",
              "\n",
              "    .colab-df-convert {\n",
              "      background-color: #E8F0FE;\n",
              "      border: none;\n",
              "      border-radius: 50%;\n",
              "      cursor: pointer;\n",
              "      display: none;\n",
              "      fill: #1967D2;\n",
              "      height: 32px;\n",
              "      padding: 0 0 0 0;\n",
              "      width: 32px;\n",
              "    }\n",
              "\n",
              "    .colab-df-convert:hover {\n",
              "      background-color: #E2EBFA;\n",
              "      box-shadow: 0px 1px 2px rgba(60, 64, 67, 0.3), 0px 1px 3px 1px rgba(60, 64, 67, 0.15);\n",
              "      fill: #174EA6;\n",
              "    }\n",
              "\n",
              "    [theme=dark] .colab-df-convert {\n",
              "      background-color: #3B4455;\n",
              "      fill: #D2E3FC;\n",
              "    }\n",
              "\n",
              "    [theme=dark] .colab-df-convert:hover {\n",
              "      background-color: #434B5C;\n",
              "      box-shadow: 0px 1px 3px 1px rgba(0, 0, 0, 0.15);\n",
              "      filter: drop-shadow(0px 1px 2px rgba(0, 0, 0, 0.3));\n",
              "      fill: #FFFFFF;\n",
              "    }\n",
              "  </style>\n",
              "\n",
              "      <script>\n",
              "        const buttonEl =\n",
              "          document.querySelector('#df-a114adf1-d7a1-47aa-a974-dfd32cde630a button.colab-df-convert');\n",
              "        buttonEl.style.display =\n",
              "          google.colab.kernel.accessAllowed ? 'block' : 'none';\n",
              "\n",
              "        async function convertToInteractive(key) {\n",
              "          const element = document.querySelector('#df-a114adf1-d7a1-47aa-a974-dfd32cde630a');\n",
              "          const dataTable =\n",
              "            await google.colab.kernel.invokeFunction('convertToInteractive',\n",
              "                                                     [key], {});\n",
              "          if (!dataTable) return;\n",
              "\n",
              "          const docLinkHtml = 'Like what you see? Visit the ' +\n",
              "            '<a target=\"_blank\" href=https://colab.research.google.com/notebooks/data_table.ipynb>data table notebook</a>'\n",
              "            + ' to learn more about interactive tables.';\n",
              "          element.innerHTML = '';\n",
              "          dataTable['output_type'] = 'display_data';\n",
              "          await google.colab.output.renderOutput(dataTable, element);\n",
              "          const docLink = document.createElement('div');\n",
              "          docLink.innerHTML = docLinkHtml;\n",
              "          element.appendChild(docLink);\n",
              "        }\n",
              "      </script>\n",
              "    </div>\n",
              "  </div>\n",
              "  "
            ]
          },
          "metadata": {},
          "execution_count": 14
        }
      ],
      "source": [
        "import pandas as pd\n",
        "#retrieve the query results into a pandas dataframe\n",
        "df = pd.read_sql_query(\"select * from instructor;\", conn)\n",
        "\n",
        "#print the dataframe\n",
        "df"
      ]
    },
    {
      "cell_type": "code",
      "execution_count": 15,
      "metadata": {
        "colab": {
          "base_uri": "https://localhost:8080/",
          "height": 36
        },
        "id": "kTX9l-QVmn8F",
        "outputId": "b3ae22e2-1dd3-445f-bb10-c8a5d29b884b"
      },
      "outputs": [
        {
          "output_type": "execute_result",
          "data": {
            "text/plain": [
              "'Ahuja'"
            ],
            "application/vnd.google.colaboratory.intrinsic+json": {
              "type": "string"
            }
          },
          "metadata": {},
          "execution_count": 15
        }
      ],
      "source": [
        "#print just the LNAME for first row in the pandas data frame\n",
        "df.LNAME[0]"
      ]
    },
    {
      "cell_type": "markdown",
      "metadata": {
        "id": "YPTW_G77mn8G"
      },
      "source": [
        "Once the data is in a Pandas dataframe, you can do the typical pandas operations on it.\n",
        "\n",
        "For example you can use the shape method to see how many rows and columns are in the dataframe\n"
      ]
    },
    {
      "cell_type": "code",
      "execution_count": 16,
      "metadata": {
        "scrolled": true,
        "colab": {
          "base_uri": "https://localhost:8080/"
        },
        "id": "7wgKvghhmn8G",
        "outputId": "4aa7406f-718d-4d81-c1c6-d64c8bf98b55"
      },
      "outputs": [
        {
          "output_type": "execute_result",
          "data": {
            "text/plain": [
              "(3, 5)"
            ]
          },
          "metadata": {},
          "execution_count": 16
        }
      ],
      "source": [
        "df.shape"
      ]
    },
    {
      "cell_type": "markdown",
      "metadata": {
        "id": "jz22LHNhmn8G"
      },
      "source": [
        "## Task 6: Close the Connection\n",
        "\n",
        "We free all resources by closing the connection. Remember that it is always important to close connections so that we can avoid unused connections taking up resources.\n"
      ]
    },
    {
      "cell_type": "code",
      "execution_count": 17,
      "metadata": {
        "id": "T52quneqmn8G"
      },
      "outputs": [],
      "source": [
        "# Close the connection\n",
        "conn.close()"
      ]
    },
    {
      "cell_type": "markdown",
      "metadata": {
        "id": "ZeXf_v-umn8G"
      },
      "source": [
        "## Summary\n",
        "\n",
        "In this tutorial you created a database & table in Python notebook using SQLite3. Then created a table and insert a few rows of data into it. Then queried the data. You also retrieved the data into a pandas dataframe.\n"
      ]
    }
  ],
  "metadata": {
    "kernelspec": {
      "display_name": "Python",
      "language": "python",
      "name": "conda-env-python-py"
    },
    "language_info": {
      "name": ""
    },
    "colab": {
      "provenance": []
    }
  },
  "nbformat": 4,
  "nbformat_minor": 0
}